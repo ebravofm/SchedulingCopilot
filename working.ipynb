{
 "cells": [
  {
   "cell_type": "code",
   "execution_count": 26,
   "metadata": {},
   "outputs": [],
   "source": [
    "import pandas as pd\n",
    "from matplotlib import pyplot as plt\n",
    "pd.set_option('display.max_columns', 500)"
   ]
  },
  {
   "cell_type": "code",
   "execution_count": null,
   "metadata": {},
   "outputs": [],
   "source": [
    "dataset = pd.read_excel('ProcessedDataset.xlsx')\n",
    "df = dataset.copy()\n",
    "# df.columns = ['Unnamed: 0', 'Descripción Orden', 'N° Aviso', 'Ubicación Técnica', 'Denom. Equipo', 'Puesto Trabajo Resp.', 'Fecha Requerida', 'Fecha Inicio Extrema', 'Denominación', 'Hoja de ruta', 'Impacto', 'Autor del Aviso', 'N° Opr', 'Est.Inst', 'Descripción', 'Puesto Trabajo', 'Trabajo', 'Dur.', 'Clase Capacidad', 'Cantidad', 'N° Empleado', 'Fecha Inicio Prog.', 'Hora Inicio Prog.', 'Texto Largo', 'Ficha', 'OT', 'Task', 'TaskGroup', 'Len', 'Q', 'Herramienta', 'Squad', 'Tool', 'Start(p)', 'EarliestDate', 'RequiredDate', 'Impact']"
   ]
  },
  {
   "cell_type": "code",
   "execution_count": 14,
   "metadata": {},
   "outputs": [
    {
     "name": "stdout",
     "output_type": "stream",
     "text": [
      "Numero de Tareas: 4898\n",
      "Numero de OTs: 1055\n"
     ]
    }
   ],
   "source": [
    "print(f'Numero de Tareas: {len(df)}')\n",
    "print(f'Numero de OTs: {len(df[\"OT\"].unique())}')"
   ]
  },
  {
   "cell_type": "code",
   "execution_count": 18,
   "metadata": {},
   "outputs": [
    {
     "name": "stdout",
     "output_type": "stream",
     "text": [
      "Fecha minima: 2023-07-17 00:00:00\n",
      "Fecha maxima: 2023-08-03 00:00:00\n",
      "Duracion promedio: 1.9220498162515314\n"
     ]
    }
   ],
   "source": [
    "print(f'Fecha minima: {df[\"Fecha Inicio Extrema\"].min()}')\n",
    "print(f'Fecha maxima: {df[\"Fecha Inicio Extrema\"].max()}')\n",
    "print(f'Duracion promedio: {df[\"Dur.\"].mean()}')"
   ]
  },
  {
   "cell_type": "code",
   "execution_count": 22,
   "metadata": {},
   "outputs": [
    {
     "name": "stdout",
     "output_type": "stream",
     "text": [
      "Numero de cuadrillas: 31\n",
      "Numero de Equipos Auxiliares: 16\n"
     ]
    }
   ],
   "source": [
    "print(f'Numero de cuadrillas: {len(df[\"Puesto Trabajo\"].unique())}')\n",
    "print(f'Numero de Equipos Auxiliares: {len(df[\"Herramienta\"].unique())}')"
   ]
  },
  {
   "cell_type": "code",
   "execution_count": 29,
   "metadata": {},
   "outputs": [
    {
     "name": "stdout",
     "output_type": "stream",
     "text": [
      "Impact\n",
      "2    2403\n",
      "3    1829\n",
      "1     666\n",
      "Name: count, dtype: int64\n"
     ]
    },
    {
     "data": {
      "text/plain": [
       "<Axes: xlabel='Impact'>"
      ]
     },
     "execution_count": 29,
     "metadata": {},
     "output_type": "execute_result"
    },
    {
     "data": {
      "image/png": "[encoded data removed]",
      "text/plain": [
       "<Figure size 640x480 with 1 Axes>"
      ]
     },
     "metadata": {},
     "output_type": "display_data"
    }
   ],
   "source": [
    "print(df['Impact'].value_counts())\n",
    "df['Impact'].value_counts().plot(kind='bar')"
   ]
  },
  {
   "cell_type": "code",
   "execution_count": 30,
   "metadata": {},
   "outputs": [
    {
     "ename": "FileNotFoundError",
     "evalue": "[Errno 2] No such file or directory: '/Users/laptop/Documents/Magister/Memoria/git/imgs/impact_distribution.png'",
     "output_type": "error",
     "traceback": [
      "\u001b[0;31m---------------------------------------------------------------------------\u001b[0m",
      "\u001b[0;31mFileNotFoundError\u001b[0m                         Traceback (most recent call last)",
      "Cell \u001b[0;32mIn[30], line 29\u001b[0m\n\u001b[1;32m     26\u001b[0m plt\u001b[38;5;241m.\u001b[39mtight_layout()\n\u001b[1;32m     28\u001b[0m \u001b[38;5;66;03m# Guardar el gráfico como una imagen de alta calidad para incluirlo en el documento LaTeX\u001b[39;00m\n\u001b[0;32m---> 29\u001b[0m \u001b[43mplt\u001b[49m\u001b[38;5;241;43m.\u001b[39;49m\u001b[43msavefig\u001b[49m\u001b[43m(\u001b[49m\u001b[38;5;124;43m'\u001b[39;49m\u001b[38;5;124;43mimgs/impact_distribution.png\u001b[39;49m\u001b[38;5;124;43m'\u001b[39;49m\u001b[43m,\u001b[49m\u001b[43m \u001b[49m\u001b[43mdpi\u001b[49m\u001b[38;5;241;43m=\u001b[39;49m\u001b[38;5;241;43m300\u001b[39;49m\u001b[43m)\u001b[49m\n\u001b[1;32m     30\u001b[0m plt\u001b[38;5;241m.\u001b[39mshow()\n",
      "File \u001b[0;32m/opt/miniconda3/envs/jpype/lib/python3.12/site-packages/matplotlib/pyplot.py:1228\u001b[0m, in \u001b[0;36msavefig\u001b[0;34m(*args, **kwargs)\u001b[0m\n\u001b[1;32m   1225\u001b[0m fig \u001b[38;5;241m=\u001b[39m gcf()\n\u001b[1;32m   1226\u001b[0m \u001b[38;5;66;03m# savefig default implementation has no return, so mypy is unhappy\u001b[39;00m\n\u001b[1;32m   1227\u001b[0m \u001b[38;5;66;03m# presumably this is here because subclasses can return?\u001b[39;00m\n\u001b[0;32m-> 1228\u001b[0m res \u001b[38;5;241m=\u001b[39m \u001b[43mfig\u001b[49m\u001b[38;5;241;43m.\u001b[39;49m\u001b[43msavefig\u001b[49m\u001b[43m(\u001b[49m\u001b[38;5;241;43m*\u001b[39;49m\u001b[43margs\u001b[49m\u001b[43m,\u001b[49m\u001b[43m \u001b[49m\u001b[38;5;241;43m*\u001b[39;49m\u001b[38;5;241;43m*\u001b[39;49m\u001b[43mkwargs\u001b[49m\u001b[43m)\u001b[49m  \u001b[38;5;66;03m# type: ignore[func-returns-value]\u001b[39;00m\n\u001b[1;32m   1229\u001b[0m fig\u001b[38;5;241m.\u001b[39mcanvas\u001b[38;5;241m.\u001b[39mdraw_idle()  \u001b[38;5;66;03m# Need this if 'transparent=True', to reset colors.\u001b[39;00m\n\u001b[1;32m   1230\u001b[0m \u001b[38;5;28;01mreturn\u001b[39;00m res\n",
      "File \u001b[0;32m/opt/miniconda3/envs/jpype/lib/python3.12/site-packages/matplotlib/figure.py:3395\u001b[0m, in \u001b[0;36mFigure.savefig\u001b[0;34m(self, fname, transparent, **kwargs)\u001b[0m\n\u001b[1;32m   3393\u001b[0m     \u001b[38;5;28;01mfor\u001b[39;00m ax \u001b[38;5;129;01min\u001b[39;00m \u001b[38;5;28mself\u001b[39m\u001b[38;5;241m.\u001b[39maxes:\n\u001b[1;32m   3394\u001b[0m         _recursively_make_axes_transparent(stack, ax)\n\u001b[0;32m-> 3395\u001b[0m \u001b[38;5;28;43mself\u001b[39;49m\u001b[38;5;241;43m.\u001b[39;49m\u001b[43mcanvas\u001b[49m\u001b[38;5;241;43m.\u001b[39;49m\u001b[43mprint_figure\u001b[49m\u001b[43m(\u001b[49m\u001b[43mfname\u001b[49m\u001b[43m,\u001b[49m\u001b[43m \u001b[49m\u001b[38;5;241;43m*\u001b[39;49m\u001b[38;5;241;43m*\u001b[39;49m\u001b[43mkwargs\u001b[49m\u001b[43m)\u001b[49m\n",
      "File \u001b[0;32m/opt/miniconda3/envs/jpype/lib/python3.12/site-packages/matplotlib/backend_bases.py:2204\u001b[0m, in \u001b[0;36mFigureCanvasBase.print_figure\u001b[0;34m(self, filename, dpi, facecolor, edgecolor, orientation, format, bbox_inches, pad_inches, bbox_extra_artists, backend, **kwargs)\u001b[0m\n\u001b[1;32m   2200\u001b[0m \u001b[38;5;28;01mtry\u001b[39;00m:\n\u001b[1;32m   2201\u001b[0m     \u001b[38;5;66;03m# _get_renderer may change the figure dpi (as vector formats\u001b[39;00m\n\u001b[1;32m   2202\u001b[0m     \u001b[38;5;66;03m# force the figure dpi to 72), so we need to set it again here.\u001b[39;00m\n\u001b[1;32m   2203\u001b[0m     \u001b[38;5;28;01mwith\u001b[39;00m cbook\u001b[38;5;241m.\u001b[39m_setattr_cm(\u001b[38;5;28mself\u001b[39m\u001b[38;5;241m.\u001b[39mfigure, dpi\u001b[38;5;241m=\u001b[39mdpi):\n\u001b[0;32m-> 2204\u001b[0m         result \u001b[38;5;241m=\u001b[39m \u001b[43mprint_method\u001b[49m\u001b[43m(\u001b[49m\n\u001b[1;32m   2205\u001b[0m \u001b[43m            \u001b[49m\u001b[43mfilename\u001b[49m\u001b[43m,\u001b[49m\n\u001b[1;32m   2206\u001b[0m \u001b[43m            \u001b[49m\u001b[43mfacecolor\u001b[49m\u001b[38;5;241;43m=\u001b[39;49m\u001b[43mfacecolor\u001b[49m\u001b[43m,\u001b[49m\n\u001b[1;32m   2207\u001b[0m \u001b[43m            \u001b[49m\u001b[43medgecolor\u001b[49m\u001b[38;5;241;43m=\u001b[39;49m\u001b[43medgecolor\u001b[49m\u001b[43m,\u001b[49m\n\u001b[1;32m   2208\u001b[0m \u001b[43m            \u001b[49m\u001b[43morientation\u001b[49m\u001b[38;5;241;43m=\u001b[39;49m\u001b[43morientation\u001b[49m\u001b[43m,\u001b[49m\n\u001b[1;32m   2209\u001b[0m \u001b[43m            \u001b[49m\u001b[43mbbox_inches_restore\u001b[49m\u001b[38;5;241;43m=\u001b[39;49m\u001b[43m_bbox_inches_restore\u001b[49m\u001b[43m,\u001b[49m\n\u001b[1;32m   2210\u001b[0m \u001b[43m            \u001b[49m\u001b[38;5;241;43m*\u001b[39;49m\u001b[38;5;241;43m*\u001b[39;49m\u001b[43mkwargs\u001b[49m\u001b[43m)\u001b[49m\n\u001b[1;32m   2211\u001b[0m \u001b[38;5;28;01mfinally\u001b[39;00m:\n\u001b[1;32m   2212\u001b[0m     \u001b[38;5;28;01mif\u001b[39;00m bbox_inches \u001b[38;5;129;01mand\u001b[39;00m restore_bbox:\n",
      "File \u001b[0;32m/opt/miniconda3/envs/jpype/lib/python3.12/site-packages/matplotlib/backend_bases.py:2054\u001b[0m, in \u001b[0;36mFigureCanvasBase._switch_canvas_and_return_print_method.<locals>.<lambda>\u001b[0;34m(*args, **kwargs)\u001b[0m\n\u001b[1;32m   2050\u001b[0m     optional_kws \u001b[38;5;241m=\u001b[39m {  \u001b[38;5;66;03m# Passed by print_figure for other renderers.\u001b[39;00m\n\u001b[1;32m   2051\u001b[0m         \u001b[38;5;124m\"\u001b[39m\u001b[38;5;124mdpi\u001b[39m\u001b[38;5;124m\"\u001b[39m, \u001b[38;5;124m\"\u001b[39m\u001b[38;5;124mfacecolor\u001b[39m\u001b[38;5;124m\"\u001b[39m, \u001b[38;5;124m\"\u001b[39m\u001b[38;5;124medgecolor\u001b[39m\u001b[38;5;124m\"\u001b[39m, \u001b[38;5;124m\"\u001b[39m\u001b[38;5;124morientation\u001b[39m\u001b[38;5;124m\"\u001b[39m,\n\u001b[1;32m   2052\u001b[0m         \u001b[38;5;124m\"\u001b[39m\u001b[38;5;124mbbox_inches_restore\u001b[39m\u001b[38;5;124m\"\u001b[39m}\n\u001b[1;32m   2053\u001b[0m     skip \u001b[38;5;241m=\u001b[39m optional_kws \u001b[38;5;241m-\u001b[39m {\u001b[38;5;241m*\u001b[39minspect\u001b[38;5;241m.\u001b[39msignature(meth)\u001b[38;5;241m.\u001b[39mparameters}\n\u001b[0;32m-> 2054\u001b[0m     print_method \u001b[38;5;241m=\u001b[39m functools\u001b[38;5;241m.\u001b[39mwraps(meth)(\u001b[38;5;28;01mlambda\u001b[39;00m \u001b[38;5;241m*\u001b[39margs, \u001b[38;5;241m*\u001b[39m\u001b[38;5;241m*\u001b[39mkwargs: \u001b[43mmeth\u001b[49m\u001b[43m(\u001b[49m\n\u001b[1;32m   2055\u001b[0m \u001b[43m        \u001b[49m\u001b[38;5;241;43m*\u001b[39;49m\u001b[43margs\u001b[49m\u001b[43m,\u001b[49m\u001b[43m \u001b[49m\u001b[38;5;241;43m*\u001b[39;49m\u001b[38;5;241;43m*\u001b[39;49m\u001b[43m{\u001b[49m\u001b[43mk\u001b[49m\u001b[43m:\u001b[49m\u001b[43m \u001b[49m\u001b[43mv\u001b[49m\u001b[43m \u001b[49m\u001b[38;5;28;43;01mfor\u001b[39;49;00m\u001b[43m \u001b[49m\u001b[43mk\u001b[49m\u001b[43m,\u001b[49m\u001b[43m \u001b[49m\u001b[43mv\u001b[49m\u001b[43m \u001b[49m\u001b[38;5;129;43;01min\u001b[39;49;00m\u001b[43m \u001b[49m\u001b[43mkwargs\u001b[49m\u001b[38;5;241;43m.\u001b[39;49m\u001b[43mitems\u001b[49m\u001b[43m(\u001b[49m\u001b[43m)\u001b[49m\u001b[43m \u001b[49m\u001b[38;5;28;43;01mif\u001b[39;49;00m\u001b[43m \u001b[49m\u001b[43mk\u001b[49m\u001b[43m \u001b[49m\u001b[38;5;129;43;01mnot\u001b[39;49;00m\u001b[43m \u001b[49m\u001b[38;5;129;43;01min\u001b[39;49;00m\u001b[43m \u001b[49m\u001b[43mskip\u001b[49m\u001b[43m}\u001b[49m\u001b[43m)\u001b[49m)\n\u001b[1;32m   2056\u001b[0m \u001b[38;5;28;01melse\u001b[39;00m:  \u001b[38;5;66;03m# Let third-parties do as they see fit.\u001b[39;00m\n\u001b[1;32m   2057\u001b[0m     print_method \u001b[38;5;241m=\u001b[39m meth\n",
      "File \u001b[0;32m/opt/miniconda3/envs/jpype/lib/python3.12/site-packages/matplotlib/backends/backend_agg.py:496\u001b[0m, in \u001b[0;36mFigureCanvasAgg.print_png\u001b[0;34m(self, filename_or_obj, metadata, pil_kwargs)\u001b[0m\n\u001b[1;32m    449\u001b[0m \u001b[38;5;28;01mdef\u001b[39;00m \u001b[38;5;21mprint_png\u001b[39m(\u001b[38;5;28mself\u001b[39m, filename_or_obj, \u001b[38;5;241m*\u001b[39m, metadata\u001b[38;5;241m=\u001b[39m\u001b[38;5;28;01mNone\u001b[39;00m, pil_kwargs\u001b[38;5;241m=\u001b[39m\u001b[38;5;28;01mNone\u001b[39;00m):\n\u001b[1;32m    450\u001b[0m \u001b[38;5;250m    \u001b[39m\u001b[38;5;124;03m\"\"\"\u001b[39;00m\n\u001b[1;32m    451\u001b[0m \u001b[38;5;124;03m    Write the figure to a PNG file.\u001b[39;00m\n\u001b[1;32m    452\u001b[0m \n\u001b[0;32m   (...)\u001b[0m\n\u001b[1;32m    494\u001b[0m \u001b[38;5;124;03m        *metadata*, including the default 'Software' key.\u001b[39;00m\n\u001b[1;32m    495\u001b[0m \u001b[38;5;124;03m    \"\"\"\u001b[39;00m\n\u001b[0;32m--> 496\u001b[0m     \u001b[38;5;28;43mself\u001b[39;49m\u001b[38;5;241;43m.\u001b[39;49m\u001b[43m_print_pil\u001b[49m\u001b[43m(\u001b[49m\u001b[43mfilename_or_obj\u001b[49m\u001b[43m,\u001b[49m\u001b[43m \u001b[49m\u001b[38;5;124;43m\"\u001b[39;49m\u001b[38;5;124;43mpng\u001b[39;49m\u001b[38;5;124;43m\"\u001b[39;49m\u001b[43m,\u001b[49m\u001b[43m \u001b[49m\u001b[43mpil_kwargs\u001b[49m\u001b[43m,\u001b[49m\u001b[43m \u001b[49m\u001b[43mmetadata\u001b[49m\u001b[43m)\u001b[49m\n",
      "File \u001b[0;32m/opt/miniconda3/envs/jpype/lib/python3.12/site-packages/matplotlib/backends/backend_agg.py:445\u001b[0m, in \u001b[0;36mFigureCanvasAgg._print_pil\u001b[0;34m(self, filename_or_obj, fmt, pil_kwargs, metadata)\u001b[0m\n\u001b[1;32m    440\u001b[0m \u001b[38;5;250m\u001b[39m\u001b[38;5;124;03m\"\"\"\u001b[39;00m\n\u001b[1;32m    441\u001b[0m \u001b[38;5;124;03mDraw the canvas, then save it using `.image.imsave` (to which\u001b[39;00m\n\u001b[1;32m    442\u001b[0m \u001b[38;5;124;03m*pil_kwargs* and *metadata* are forwarded).\u001b[39;00m\n\u001b[1;32m    443\u001b[0m \u001b[38;5;124;03m\"\"\"\u001b[39;00m\n\u001b[1;32m    444\u001b[0m FigureCanvasAgg\u001b[38;5;241m.\u001b[39mdraw(\u001b[38;5;28mself\u001b[39m)\n\u001b[0;32m--> 445\u001b[0m \u001b[43mmpl\u001b[49m\u001b[38;5;241;43m.\u001b[39;49m\u001b[43mimage\u001b[49m\u001b[38;5;241;43m.\u001b[39;49m\u001b[43mimsave\u001b[49m\u001b[43m(\u001b[49m\n\u001b[1;32m    446\u001b[0m \u001b[43m    \u001b[49m\u001b[43mfilename_or_obj\u001b[49m\u001b[43m,\u001b[49m\u001b[43m \u001b[49m\u001b[38;5;28;43mself\u001b[39;49m\u001b[38;5;241;43m.\u001b[39;49m\u001b[43mbuffer_rgba\u001b[49m\u001b[43m(\u001b[49m\u001b[43m)\u001b[49m\u001b[43m,\u001b[49m\u001b[43m \u001b[49m\u001b[38;5;28;43mformat\u001b[39;49m\u001b[38;5;241;43m=\u001b[39;49m\u001b[43mfmt\u001b[49m\u001b[43m,\u001b[49m\u001b[43m \u001b[49m\u001b[43morigin\u001b[49m\u001b[38;5;241;43m=\u001b[39;49m\u001b[38;5;124;43m\"\u001b[39;49m\u001b[38;5;124;43mupper\u001b[39;49m\u001b[38;5;124;43m\"\u001b[39;49m\u001b[43m,\u001b[49m\n\u001b[1;32m    447\u001b[0m \u001b[43m    \u001b[49m\u001b[43mdpi\u001b[49m\u001b[38;5;241;43m=\u001b[39;49m\u001b[38;5;28;43mself\u001b[39;49m\u001b[38;5;241;43m.\u001b[39;49m\u001b[43mfigure\u001b[49m\u001b[38;5;241;43m.\u001b[39;49m\u001b[43mdpi\u001b[49m\u001b[43m,\u001b[49m\u001b[43m \u001b[49m\u001b[43mmetadata\u001b[49m\u001b[38;5;241;43m=\u001b[39;49m\u001b[43mmetadata\u001b[49m\u001b[43m,\u001b[49m\u001b[43m \u001b[49m\u001b[43mpil_kwargs\u001b[49m\u001b[38;5;241;43m=\u001b[39;49m\u001b[43mpil_kwargs\u001b[49m\u001b[43m)\u001b[49m\n",
      "File \u001b[0;32m/opt/miniconda3/envs/jpype/lib/python3.12/site-packages/matplotlib/image.py:1676\u001b[0m, in \u001b[0;36mimsave\u001b[0;34m(fname, arr, vmin, vmax, cmap, format, origin, dpi, metadata, pil_kwargs)\u001b[0m\n\u001b[1;32m   1674\u001b[0m pil_kwargs\u001b[38;5;241m.\u001b[39msetdefault(\u001b[38;5;124m\"\u001b[39m\u001b[38;5;124mformat\u001b[39m\u001b[38;5;124m\"\u001b[39m, \u001b[38;5;28mformat\u001b[39m)\n\u001b[1;32m   1675\u001b[0m pil_kwargs\u001b[38;5;241m.\u001b[39msetdefault(\u001b[38;5;124m\"\u001b[39m\u001b[38;5;124mdpi\u001b[39m\u001b[38;5;124m\"\u001b[39m, (dpi, dpi))\n\u001b[0;32m-> 1676\u001b[0m \u001b[43mimage\u001b[49m\u001b[38;5;241;43m.\u001b[39;49m\u001b[43msave\u001b[49m\u001b[43m(\u001b[49m\u001b[43mfname\u001b[49m\u001b[43m,\u001b[49m\u001b[43m \u001b[49m\u001b[38;5;241;43m*\u001b[39;49m\u001b[38;5;241;43m*\u001b[39;49m\u001b[43mpil_kwargs\u001b[49m\u001b[43m)\u001b[49m\n",
      "File \u001b[0;32m/opt/miniconda3/envs/jpype/lib/python3.12/site-packages/PIL/Image.py:2600\u001b[0m, in \u001b[0;36mImage.save\u001b[0;34m(self, fp, format, **params)\u001b[0m\n\u001b[1;32m   2598\u001b[0m         fp \u001b[38;5;241m=\u001b[39m builtins\u001b[38;5;241m.\u001b[39mopen(filename, \u001b[38;5;124m\"\u001b[39m\u001b[38;5;124mr+b\u001b[39m\u001b[38;5;124m\"\u001b[39m)\n\u001b[1;32m   2599\u001b[0m     \u001b[38;5;28;01melse\u001b[39;00m:\n\u001b[0;32m-> 2600\u001b[0m         fp \u001b[38;5;241m=\u001b[39m \u001b[43mbuiltins\u001b[49m\u001b[38;5;241;43m.\u001b[39;49m\u001b[43mopen\u001b[49m\u001b[43m(\u001b[49m\u001b[43mfilename\u001b[49m\u001b[43m,\u001b[49m\u001b[43m \u001b[49m\u001b[38;5;124;43m\"\u001b[39;49m\u001b[38;5;124;43mw+b\u001b[39;49m\u001b[38;5;124;43m\"\u001b[39;49m\u001b[43m)\u001b[49m\n\u001b[1;32m   2601\u001b[0m \u001b[38;5;28;01melse\u001b[39;00m:\n\u001b[1;32m   2602\u001b[0m     fp \u001b[38;5;241m=\u001b[39m cast(IO[\u001b[38;5;28mbytes\u001b[39m], fp)\n",
      "\u001b[0;31mFileNotFoundError\u001b[0m: [Errno 2] No such file or directory: '/Users/laptop/Documents/Magister/Memoria/git/imgs/impact_distribution.png'"
     ]
    },
    {
     "data": {
      "image/png": "[encoded data removed]",
      "text/plain": [
       "<Figure size 800x600 with 1 Axes>"
      ]
     },
     "metadata": {},
     "output_type": "display_data"
    }
   ],
   "source": [
    "import matplotlib.pyplot as plt\n",
    "\n",
    "# Datos para el gráfico (simulado según la información proporcionada)\n",
    "impact_counts = {'Criticidad 2': 2403, 'Criticidad 3': 1829, 'Criticidad 1': 666}\n",
    "\n",
    "# Crear el gráfico de barras\n",
    "plt.figure(figsize=(8, 6))  # Tamaño del gráfico\n",
    "colors = ['#1f77b4', '#ff7f0e', '#2ca02c']  # Colores personalizados\n",
    "plt.bar(impact_counts.keys(), impact_counts.values(), color=colors, edgecolor='black', alpha=0.85)\n",
    "\n",
    "# Títulos y etiquetas\n",
    "plt.title('Distribución de Tareas por Nivel de Criticidad', fontsize=14, fontweight='bold')\n",
    "plt.xlabel('Nivel de Criticidad', fontsize=12)\n",
    "plt.ylabel('Número de Tareas', fontsize=12)\n",
    "\n",
    "# Líneas de cuadrícula solo en el eje Y\n",
    "plt.grid(axis='y', linestyle='--', alpha=0.7)\n",
    "\n",
    "# Añadir etiquetas de valores en las barras\n",
    "for i, val in enumerate(impact_counts.values()):\n",
    "    plt.text(i, val + 50, str(val), ha='center', va='bottom', fontsize=10, fontweight='bold')\n",
    "\n",
    "# Estilizar el gráfico\n",
    "plt.xticks(fontsize=11)\n",
    "plt.yticks(fontsize=11)\n",
    "plt.tight_layout()\n",
    "\n",
    "# Guardar el gráfico como una imagen de alta calidad para incluirlo en el documento LaTeX\n",
    "plt.savefig('imgs/impact_distribution.png', dpi=300)\n",
    "plt.show()\n"
   ]
  },
  {
   "cell_type": "code",
   "execution_count": 58,
   "metadata": {},
   "outputs": [
    {
     "data": {
      "text/html": [
       "\n",
       "<style>\n",
       "  #altair-viz-a4e61b2625da49899fa79572b34dc268.vega-embed {\n",
       "    width: 100%;\n",
       "    display: flex;\n",
       "  }\n",
       "\n",
       "  #altair-viz-a4e61b2625da49899fa79572b34dc268.vega-embed details,\n",
       "  #altair-viz-a4e61b2625da49899fa79572b34dc268.vega-embed details summary {\n",
       "    position: relative;\n",
       "  }\n",
       "</style>\n",
       "<div id=\"altair-viz-a4e61b2625da49899fa79572b34dc268\"></div>\n",
       "<script type=\"text/javascript\">\n",
       "  var VEGA_DEBUG = (typeof VEGA_DEBUG == \"undefined\") ? {} : VEGA_DEBUG;\n",
       "  (function(spec, embedOpt){\n",
       "    let outputDiv = document.currentScript.previousElementSibling;\n",
       "    if (outputDiv.id !== \"altair-viz-a4e61b2625da49899fa79572b34dc268\") {\n",
       "      outputDiv = document.getElementById(\"altair-viz-a4e61b2625da49899fa79572b34dc268\");\n",
       "    }\n",
       "\n",
       "    const paths = {\n",
       "      \"vega\": \"https://cdn.jsdelivr.net/npm/vega@5?noext\",\n",
       "      \"vega-lib\": \"https://cdn.jsdelivr.net/npm/vega-lib?noext\",\n",
       "      \"vega-lite\": \"https://cdn.jsdelivr.net/npm/vega-lite@5.20.1?noext\",\n",
       "      \"vega-embed\": \"https://cdn.jsdelivr.net/npm/vega-embed@6?noext\",\n",
       "    };\n",
       "\n",
       "    function maybeLoadScript(lib, version) {\n",
       "      var key = `${lib.replace(\"-\", \"\")}_version`;\n",
       "      return (VEGA_DEBUG[key] == version) ?\n",
       "        Promise.resolve(paths[lib]) :\n",
       "        new Promise(function(resolve, reject) {\n",
       "          var s = document.createElement('script');\n",
       "          document.getElementsByTagName(\"head\")[0].appendChild(s);\n",
       "          s.async = true;\n",
       "          s.onload = () => {\n",
       "            VEGA_DEBUG[key] = version;\n",
       "            return resolve(paths[lib]);\n",
       "          };\n",
       "          s.onerror = () => reject(`Error loading script: ${paths[lib]}`);\n",
       "          s.src = paths[lib];\n",
       "        });\n",
       "    }\n",
       "\n",
       "    function showError(err) {\n",
       "      outputDiv.innerHTML = `<div class=\"error\" style=\"color:red;\">${err}</div>`;\n",
       "      throw err;\n",
       "    }\n",
       "\n",
       "    function displayChart(vegaEmbed) {\n",
       "      vegaEmbed(outputDiv, spec, embedOpt)\n",
       "        .catch(err => showError(`Javascript Error: ${err.message}<br>This usually means there's a typo in your chart specification. See the javascript console for the full traceback.`));\n",
       "    }\n",
       "\n",
       "    if(typeof define === \"function\" && define.amd) {\n",
       "      requirejs.config({paths});\n",
       "      let deps = [\"vega-embed\"];\n",
       "      require(deps, displayChart, err => showError(`Error loading script: ${err.message}`));\n",
       "    } else {\n",
       "      maybeLoadScript(\"vega\", \"5\")\n",
       "        .then(() => maybeLoadScript(\"vega-lite\", \"5.20.1\"))\n",
       "        .then(() => maybeLoadScript(\"vega-embed\", \"6\"))\n",
       "        .catch(showError)\n",
       "        .then(() => displayChart(vegaEmbed));\n",
       "    }\n",
       "  })({\"config\": {\"view\": {\"continuousWidth\": 300, \"continuousHeight\": 300}, \"axis\": {\"labelAngle\": 0, \"labelFontSize\": 12, \"titleFontSize\": 14}, \"title\": {\"anchor\": \"start\", \"color\": \"black\", \"font\": \"Arial\", \"fontSize\": 16, \"offset\": 20}}, \"layer\": [{\"mark\": {\"type\": \"bar\", \"color\": \"#d4605b\", \"cornerRadiusTopLeft\": 3, \"cornerRadiusTopRight\": 3, \"width\": 40}, \"encoding\": {\"tooltip\": [{\"field\": \"Nivel de Criticidad\", \"type\": \"nominal\"}, {\"field\": \"N\\u00famero de Tareas\", \"type\": \"quantitative\"}], \"x\": {\"field\": \"Nivel de Criticidad\", \"sort\": [\"1\", \"2\", \"3\"], \"title\": \"Nivel de Criticidad\", \"type\": \"nominal\"}, \"y\": {\"field\": \"N\\u00famero de Tareas\", \"title\": \"N\\u00famero de Tareas\", \"type\": \"quantitative\"}}}, {\"mark\": {\"type\": \"text\", \"color\": \"black\", \"dy\": -5, \"fontSize\": 12, \"fontWeight\": \"bold\"}, \"encoding\": {\"text\": {\"field\": \"N\\u00famero de Tareas\", \"type\": \"quantitative\"}, \"x\": {\"field\": \"Nivel de Criticidad\", \"sort\": [\"1\", \"2\", \"3\"], \"type\": \"nominal\"}, \"y\": {\"field\": \"N\\u00famero de Tareas\", \"type\": \"quantitative\"}}}], \"data\": {\"name\": \"data-4a68d08cccd9364da900b8ef9e4e2502\"}, \"height\": 300, \"title\": \"Distribuci\\u00f3n de Tareas por Nivel de Criticidad\", \"width\": 300, \"$schema\": \"https://vega.github.io/schema/vega-lite/v5.20.1.json\", \"datasets\": {\"data-4a68d08cccd9364da900b8ef9e4e2502\": [{\"Nivel de Criticidad\": \"1\", \"N\\u00famero de Tareas\": 666}, {\"Nivel de Criticidad\": \"2\", \"N\\u00famero de Tareas\": 2403}, {\"Nivel de Criticidad\": \"3\", \"N\\u00famero de Tareas\": 1829}]}}, {\"mode\": \"vega-lite\"});\n",
       "</script>"
      ],
      "text/plain": [
       "alt.LayerChart(...)"
      ]
     },
     "execution_count": 58,
     "metadata": {},
     "output_type": "execute_result"
    }
   ],
   "source": [
    "import altair as alt\n",
    "import pandas as pd\n",
    "\n",
    "# Datos para el gráfico\n",
    "data = pd.DataFrame({\n",
    "    'Nivel de Criticidad': ['1', '2', '3'],\n",
    "    'Número de Tareas': [666, 2403, 1829]\n",
    "})\n",
    "\n",
    "# Color personalizado (de la tercera barra)\n",
    "custom_color = '#d4605b'\n",
    "\n",
    "# Crear el gráfico de barras\n",
    "bars = (\n",
    "    alt.Chart(data)\n",
    "    .mark_bar(color=custom_color, width=40, cornerRadiusTopLeft=3, cornerRadiusTopRight=3)\n",
    "    .encode(\n",
    "        x=alt.X(\n",
    "            'Nivel de Criticidad:N',  # Definir como nominal (N) para mantener el orden deseado\n",
    "            sort=['1', '2', '3'],    # Orden de menor a mayor\n",
    "            title='Nivel de Criticidad'\n",
    "        ),\n",
    "        y=alt.Y('Número de Tareas', title='Número de Tareas'),\n",
    "        tooltip=['Nivel de Criticidad', 'Número de Tareas']\n",
    "    )\n",
    ")\n",
    "\n",
    "# Agregar etiquetas sobre las barras\n",
    "text = (\n",
    "    alt.Chart(data)\n",
    "    .mark_text(dy=-5, fontSize=12, fontWeight='bold', color='black')\n",
    "    .encode(\n",
    "        x=alt.X('Nivel de Criticidad:N', sort=['1', '2', '3']),\n",
    "        y=alt.Y('Número de Tareas'),\n",
    "        text=alt.Text('Número de Tareas:Q')\n",
    "    )\n",
    ")\n",
    "\n",
    "# Combinar barras y texto\n",
    "chart = (\n",
    "    (bars + text)\n",
    "    .properties(\n",
    "        title='Distribución de Tareas por Nivel de Criticidad',\n",
    "        width=300,\n",
    "        height=300\n",
    "    )\n",
    "    .configure_title(\n",
    "        fontSize=16,\n",
    "        font='Arial',\n",
    "        anchor='start',\n",
    "        color='black',\n",
    "        offset=20  # Espacio entre el título y el gráfico\n",
    "    )\n",
    "    .configure_axis(\n",
    "        labelFontSize=12, titleFontSize=14, labelAngle=0  # Eje X horizontal\n",
    "    )\n",
    ")\n",
    "\n",
    "# Mostrar el gráfico\n",
    "chart\n"
   ]
  },
  {
   "cell_type": "code",
   "execution_count": 62,
   "metadata": {},
   "outputs": [
    {
     "data": {
      "text/html": [
       "\n",
       "<style>\n",
       "  #altair-viz-f0463da9a34a468cb3e9d21d8a838309.vega-embed {\n",
       "    width: 100%;\n",
       "    display: flex;\n",
       "  }\n",
       "\n",
       "  #altair-viz-f0463da9a34a468cb3e9d21d8a838309.vega-embed details,\n",
       "  #altair-viz-f0463da9a34a468cb3e9d21d8a838309.vega-embed details summary {\n",
       "    position: relative;\n",
       "  }\n",
       "</style>\n",
       "<div id=\"altair-viz-f0463da9a34a468cb3e9d21d8a838309\"></div>\n",
       "<script type=\"text/javascript\">\n",
       "  var VEGA_DEBUG = (typeof VEGA_DEBUG == \"undefined\") ? {} : VEGA_DEBUG;\n",
       "  (function(spec, embedOpt){\n",
       "    let outputDiv = document.currentScript.previousElementSibling;\n",
       "    if (outputDiv.id !== \"altair-viz-f0463da9a34a468cb3e9d21d8a838309\") {\n",
       "      outputDiv = document.getElementById(\"altair-viz-f0463da9a34a468cb3e9d21d8a838309\");\n",
       "    }\n",
       "\n",
       "    const paths = {\n",
       "      \"vega\": \"https://cdn.jsdelivr.net/npm/vega@5?noext\",\n",
       "      \"vega-lib\": \"https://cdn.jsdelivr.net/npm/vega-lib?noext\",\n",
       "      \"vega-lite\": \"https://cdn.jsdelivr.net/npm/vega-lite@5.20.1?noext\",\n",
       "      \"vega-embed\": \"https://cdn.jsdelivr.net/npm/vega-embed@6?noext\",\n",
       "    };\n",
       "\n",
       "    function maybeLoadScript(lib, version) {\n",
       "      var key = `${lib.replace(\"-\", \"\")}_version`;\n",
       "      return (VEGA_DEBUG[key] == version) ?\n",
       "        Promise.resolve(paths[lib]) :\n",
       "        new Promise(function(resolve, reject) {\n",
       "          var s = document.createElement('script');\n",
       "          document.getElementsByTagName(\"head\")[0].appendChild(s);\n",
       "          s.async = true;\n",
       "          s.onload = () => {\n",
       "            VEGA_DEBUG[key] = version;\n",
       "            return resolve(paths[lib]);\n",
       "          };\n",
       "          s.onerror = () => reject(`Error loading script: ${paths[lib]}`);\n",
       "          s.src = paths[lib];\n",
       "        });\n",
       "    }\n",
       "\n",
       "    function showError(err) {\n",
       "      outputDiv.innerHTML = `<div class=\"error\" style=\"color:red;\">${err}</div>`;\n",
       "      throw err;\n",
       "    }\n",
       "\n",
       "    function displayChart(vegaEmbed) {\n",
       "      vegaEmbed(outputDiv, spec, embedOpt)\n",
       "        .catch(err => showError(`Javascript Error: ${err.message}<br>This usually means there's a typo in your chart specification. See the javascript console for the full traceback.`));\n",
       "    }\n",
       "\n",
       "    if(typeof define === \"function\" && define.amd) {\n",
       "      requirejs.config({paths});\n",
       "      let deps = [\"vega-embed\"];\n",
       "      require(deps, displayChart, err => showError(`Error loading script: ${err.message}`));\n",
       "    } else {\n",
       "      maybeLoadScript(\"vega\", \"5\")\n",
       "        .then(() => maybeLoadScript(\"vega-lite\", \"5.20.1\"))\n",
       "        .then(() => maybeLoadScript(\"vega-embed\", \"6\"))\n",
       "        .catch(showError)\n",
       "        .then(() => displayChart(vegaEmbed));\n",
       "    }\n",
       "  })({\"config\": {\"view\": {\"continuousWidth\": 300, \"continuousHeight\": 300}, \"title\": {\"anchor\": \"start\", \"color\": \"black\", \"font\": \"Arial\", \"fontSize\": 16, \"offset\": 20}}, \"layer\": [{\"mark\": {\"type\": \"circle\"}, \"encoding\": {\"color\": {\"field\": \"Configuraci\\u00f3n\", \"scale\": {\"scheme\": \"tableau10\"}, \"title\": \"Configuraci\\u00f3n\", \"type\": \"nominal\"}, \"size\": {\"field\": \"Tareas Programadas\", \"scale\": {\"range\": [100, 1000]}, \"title\": \"Tareas Programadas\", \"type\": \"quantitative\"}, \"tooltip\": [{\"field\": \"Configuraci\\u00f3n\", \"type\": \"nominal\"}, {\"field\": \"Tareas Programadas\", \"type\": \"quantitative\"}, {\"field\": \"Makespan\", \"type\": \"quantitative\"}, {\"field\": \"Tiempo de Soluci\\u00f3n (s)\", \"type\": \"quantitative\"}], \"x\": {\"axis\": {\"tickCount\": 5}, \"field\": \"Tiempo de Soluci\\u00f3n (s)\", \"title\": \"Tiempo de Soluci\\u00f3n (s)\", \"type\": \"quantitative\"}, \"y\": {\"axis\": {\"tickCount\": 5}, \"field\": \"Makespan\", \"title\": \"Makespan\", \"type\": \"quantitative\"}}, \"title\": \"Relaci\\u00f3n entre Tiempo de Soluci\\u00f3n, Makespan y Tareas Programadas\"}, {\"mark\": {\"type\": \"text\", \"align\": \"center\", \"color\": \"black\", \"dy\": -10, \"fontSize\": 12, \"fontWeight\": \"bold\"}, \"encoding\": {\"text\": {\"field\": \"Configuraci\\u00f3n\", \"type\": \"nominal\"}, \"x\": {\"field\": \"Tiempo de Soluci\\u00f3n (s)\", \"type\": \"quantitative\"}, \"y\": {\"field\": \"Makespan\", \"type\": \"quantitative\"}}}], \"data\": {\"name\": \"data-98d2f4e07b19b8b1d142112aaed0fdcd\"}, \"height\": 300, \"width\": 300, \"$schema\": \"https://vega.github.io/schema/vega-lite/v5.20.1.json\", \"datasets\": {\"data-98d2f4e07b19b8b1d142112aaed0fdcd\": [{\"Configuraci\\u00f3n\": \"a\", \"Tareas Programadas\": 0, \"Makespan\": 0.0, \"Tiempo de Soluci\\u00f3n (s)\": 3.43}, {\"Configuraci\\u00f3n\": \"b\", \"Tareas Programadas\": 4854, \"Makespan\": 1072.0, \"Tiempo de Soluci\\u00f3n (s)\": 4.35}, {\"Configuraci\\u00f3n\": \"c\", \"Tareas Programadas\": 4658, \"Makespan\": 492.75, \"Tiempo de Soluci\\u00f3n (s)\": 8.42}, {\"Configuraci\\u00f3n\": \"d\", \"Tareas Programadas\": 4831, \"Makespan\": 516.25, \"Tiempo de Soluci\\u00f3n (s)\": 9.95}]}}, {\"mode\": \"vega-lite\"});\n",
       "</script>"
      ],
      "text/plain": [
       "alt.LayerChart(...)"
      ]
     },
     "execution_count": 62,
     "metadata": {},
     "output_type": "execute_result"
    }
   ],
   "source": [
    "import altair as alt\n",
    "import pandas as pd\n",
    "\n",
    "# Datos para el gráfico\n",
    "data = pd.DataFrame({\n",
    "    'Configuración': ['a', 'b', 'c', 'd'],\n",
    "    'Tareas Programadas': [0, 4854, 4658, 4831],\n",
    "    'Makespan': [0, 1072, 492.75, 516.25],\n",
    "    'Tiempo de Solución (s)': [3.43, 4.35, 8.42, 9.95]\n",
    "})\n",
    "\n",
    "# Crear el gráfico de burbujas\n",
    "chart = (\n",
    "    alt.Chart(data)\n",
    "    .mark_circle()\n",
    "    .encode(\n",
    "        x=alt.X(\n",
    "            'Tiempo de Solución (s):Q', \n",
    "            title='Tiempo de Solución (s)', \n",
    "            axis=alt.Axis(tickCount=5)\n",
    "        ),\n",
    "        y=alt.Y(\n",
    "            'Makespan:Q', \n",
    "            title='Makespan', \n",
    "            axis=alt.Axis(tickCount=5)\n",
    "        ),\n",
    "        size=alt.Size(\n",
    "            'Tareas Programadas:Q', \n",
    "            title='Tareas Programadas', \n",
    "            scale=alt.Scale(range=[100, 1000])\n",
    "        ),\n",
    "        color=alt.Color(\n",
    "            'Configuración:N', \n",
    "            scale=alt.Scale(scheme='tableau10'), \n",
    "            title='Configuración'\n",
    "        ),\n",
    "        tooltip=['Configuración', 'Tareas Programadas', 'Makespan', 'Tiempo de Solución (s)']\n",
    "    )\n",
    "    .properties(\n",
    "        title='Relación entre Tiempo de Solución, Makespan y Tareas Programadas',\n",
    "        width=300,\n",
    "        height=300\n",
    "    )\n",
    ")\n",
    "\n",
    "# Agregar etiquetas para las configuraciones\n",
    "text = (\n",
    "    alt.Chart(data)\n",
    "    .mark_text(align='center', dy=-10, fontSize=12, fontWeight='bold', color='black')\n",
    "    .encode(\n",
    "        x=alt.X('Tiempo de Solución (s):Q'),\n",
    "        y=alt.Y('Makespan:Q'),\n",
    "        text='Configuración'\n",
    "    )\n",
    ")\n",
    "\n",
    "# Combinar gráfico y etiquetas\n",
    "final_chart = (chart + text).configure_title(\n",
    "    fontSize=16,\n",
    "    font='Arial',\n",
    "    anchor='start',\n",
    "    color='black',\n",
    "    offset=20  # Espacio entre el título y el gráfico\n",
    ")\n",
    "\n",
    "# Exportar gráfico si es necesario\n",
    "# from altair_saver import save\n",
    "# save(final_chart, \"imgs/alpha_beta_bubble_analysis_with_offset_fixed.png\")\n",
    "\n",
    "# Mostrar el gráfico\n",
    "final_chart\n"
   ]
  }
 ],
 "metadata": {
  "kernelspec": {
   "display_name": "jpype",
   "language": "python",
   "name": "python3"
  },
  "language_info": {
   "codemirror_mode": {
    "name": "ipython",
    "version": 3
   },
   "file_extension": ".py",
   "mimetype": "text/x-python",
   "name": "python",
   "nbconvert_exporter": "python",
   "pygments_lexer": "ipython3",
   "version": "3.12.7"
  }
 },
 "nbformat": 4,
 "nbformat_minor": 2
}
